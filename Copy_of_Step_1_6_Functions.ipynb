{
  "nbformat": 4,
  "nbformat_minor": 0,
  "metadata": {
    "kernelspec": {
      "display_name": "Python 3",
      "language": "python",
      "name": "python3"
    },
    "language_info": {
      "codemirror_mode": {
        "name": "ipython",
        "version": 3
      },
      "file_extension": ".py",
      "mimetype": "text/x-python",
      "name": "python",
      "nbconvert_exporter": "python",
      "pygments_lexer": "ipython3",
      "version": "3.7.1"
    },
    "colab": {
      "name": "Copy of Step_1_6_Functions.ipynb",
      "provenance": [],
      "include_colab_link": true
    }
  },
  "cells": [
    {
      "cell_type": "markdown",
      "metadata": {
        "id": "view-in-github",
        "colab_type": "text"
      },
      "source": [
        "<a href=\"https://colab.research.google.com/github/larajaber51/machine-learning/blob/master/Copy_of_Step_1_6_Functions.ipynb\" target=\"_parent\"><img src=\"https://colab.research.google.com/assets/colab-badge.svg\" alt=\"Open In Colab\"/></a>"
      ]
    },
    {
      "cell_type": "markdown",
      "metadata": {
        "id": "MQTQAsYojKp8",
        "colab_type": "text"
      },
      "source": [
        "### User Defined Functions\n",
        "\n",
        "A function is a block of organized, reusable code that is used to perform a single, related action. Functions provide better modularity for your application and a high degree of code reusing. "
      ]
    },
    {
      "cell_type": "markdown",
      "metadata": {
        "id": "VJByGDW-jKp-",
        "colab_type": "text"
      },
      "source": [
        "### function without arguments"
      ]
    },
    {
      "cell_type": "code",
      "metadata": {
        "id": "TtjdqvqgjKp_",
        "colab_type": "code",
        "outputId": "62f65f7c-4662-42dc-94b8-7e834a2bde88",
        "colab": {
          "base_uri": "https://localhost:8080/",
          "height": 34
        }
      },
      "source": [
        "# Simple function\n",
        "def someFunction():\n",
        "    print (\"Hello World\")\n",
        "\n",
        "# Call the function\n",
        "someFunction()"
      ],
      "execution_count": 3,
      "outputs": [
        {
          "output_type": "stream",
          "text": [
            "Hello World\n"
          ],
          "name": "stdout"
        }
      ]
    },
    {
      "cell_type": "markdown",
      "metadata": {
        "id": "X8s8fSqBjKqD",
        "colab_type": "text"
      },
      "source": [
        "### function with arguments"
      ]
    },
    {
      "cell_type": "code",
      "metadata": {
        "id": "Pvml5ihMjKqE",
        "colab_type": "code",
        "outputId": "d44ffb1d-4f74-4b39-88a5-441b4c6c01b5",
        "colab": {
          "base_uri": "https://localhost:8080/",
          "height": 34
        }
      },
      "source": [
        "# simple function to add two numbers\n",
        "def sum_two_numbers(a, b):\n",
        "    return a + b\n",
        "\n",
        "# after this line x will hold the value 3!\n",
        "x = sum_two_numbers(1,2)\n",
        "print (x)"
      ],
      "execution_count": 1,
      "outputs": [
        {
          "output_type": "stream",
          "text": [
            "3\n"
          ],
          "name": "stdout"
        }
      ]
    },
    {
      "cell_type": "markdown",
      "metadata": {
        "id": "52BkglbtjKqH",
        "colab_type": "text"
      },
      "source": [
        "You can also set default value for argument(s) in a function. In the below example value of b is set to 10 as default"
      ]
    },
    {
      "cell_type": "code",
      "metadata": {
        "id": "ylmh5fk8jKqH",
        "colab_type": "code",
        "outputId": "e976370e-3e03-461c-c281-6596c83a9aca",
        "colab": {
          "base_uri": "https://localhost:8080/",
          "height": 50
        }
      },
      "source": [
        "def sum_two_numbers(a, b = 10):\n",
        "    return a + b\n",
        "\n",
        "print (sum_two_numbers(10))\n",
        "print (sum_two_numbers(10, 5))"
      ],
      "execution_count": 4,
      "outputs": [
        {
          "output_type": "stream",
          "text": [
            "20\n",
            "15\n"
          ],
          "name": "stdout"
        }
      ]
    },
    {
      "cell_type": "markdown",
      "metadata": {
        "id": "UwwYT-8VjKqK",
        "colab_type": "text"
      },
      "source": [
        "### Scope of variables\n",
        "\n",
        "The scope of a variable determines the portion of the program where you can access a particular identifier. There are two basic scopes of variables in Python\n",
        "\n",
        "- Global variables\n",
        "- Local variables"
      ]
    },
    {
      "cell_type": "code",
      "metadata": {
        "id": "YqqOKuSNjKqL",
        "colab_type": "code",
        "outputId": "17b3d9ec-d726-4294-ae19-f37ffb33649a",
        "colab": {
          "base_uri": "https://localhost:8080/",
          "height": 34
        }
      },
      "source": [
        "# Global variable\n",
        "a = 10 \n",
        "\n",
        "# Simple function to add two numbers\n",
        "def sum_two_numbers(b):\n",
        "    return a + b\n",
        "\n",
        "# Call the function and print result\n",
        "print (sum_two_numbers(10))"
      ],
      "execution_count": 5,
      "outputs": [
        {
          "output_type": "stream",
          "text": [
            "20\n"
          ],
          "name": "stdout"
        }
      ]
    },
    {
      "cell_type": "markdown",
      "metadata": {
        "id": "5lpg5vg6jKqO",
        "colab_type": "text"
      },
      "source": [
        "### Default argument\n",
        "\n",
        "A default argument is an argument that assumes a default value if a value is not provided in the function call for that argument."
      ]
    },
    {
      "cell_type": "code",
      "metadata": {
        "id": "orAV5Or7jKqP",
        "colab_type": "code",
        "outputId": "e9012ff8-c263-46b2-9ba8-9b0f0382a237",
        "colab": {
          "base_uri": "https://localhost:8080/",
          "height": 50
        }
      },
      "source": [
        "# Simple function to add two number with b having default value of 10\n",
        "def sum_two_numbers(a, b = 10):\n",
        "    return a + b\n",
        "\n",
        "# Call the function and print result\n",
        "print (sum_two_numbers(10))\n",
        "\n",
        "print (sum_two_numbers(10, 5))"
      ],
      "execution_count": 6,
      "outputs": [
        {
          "output_type": "stream",
          "text": [
            "20\n",
            "15\n"
          ],
          "name": "stdout"
        }
      ]
    },
    {
      "cell_type": "markdown",
      "metadata": {
        "id": "GJ77tsBtjKqS",
        "colab_type": "text"
      },
      "source": [
        "### Variable length arguments\n",
        "\n",
        "You may need to process a function for more arguments than you specified while defining the function. These arguments are called variable-lengtharguments and are not named in the function definition, unlike required and default arguments. The *args and **kwargs is a common idiom to allow arbitrary number of arguments.\n",
        "\n",
        "The *args will give you all function parameters as a tuple:"
      ]
    },
    {
      "cell_type": "code",
      "metadata": {
        "id": "XjE19QkujKqS",
        "colab_type": "code",
        "outputId": "2b0c337f-a8dc-486b-9218-4f04f1dc2e06",
        "colab": {
          "base_uri": "https://localhost:8080/",
          "height": 67
        }
      },
      "source": [
        "# Simple function to loop through arguments and print them\n",
        "def foo(*args):\n",
        "    for a in args:\n",
        "        print (a)\n",
        "\n",
        "# Call the function\n",
        "foo(1,2,3) "
      ],
      "execution_count": 7,
      "outputs": [
        {
          "output_type": "stream",
          "text": [
            "1\n",
            "2\n",
            "3\n"
          ],
          "name": "stdout"
        }
      ]
    },
    {
      "cell_type": "markdown",
      "metadata": {
        "id": "Gy-l0S6FjKqW",
        "colab_type": "text"
      },
      "source": [
        "The **kwargs will give you all keyword arguments except for those corresponding to a formal parameter as a dictionary"
      ]
    },
    {
      "cell_type": "code",
      "metadata": {
        "id": "ZU_5PIt-jKqX",
        "colab_type": "code",
        "outputId": "32fabe3d-5259-4dd0-f2b8-aca7cde73e06",
        "colab": {
          "base_uri": "https://localhost:8080/",
          "height": 50
        }
      },
      "source": [
        "# Simple function to loop through arguments and print them\n",
        "def foo(**kwargs):\n",
        "    for a in kwargs:\n",
        "        print (a, kwargs[a])\n",
        "        \n",
        "\n",
        "# Call the function\n",
        "foo(name='Jivin', age=8)"
      ],
      "execution_count": 8,
      "outputs": [
        {
          "output_type": "stream",
          "text": [
            "name Jivin\n",
            "age 8\n"
          ],
          "name": "stdout"
        }
      ]
    }
  ]
}